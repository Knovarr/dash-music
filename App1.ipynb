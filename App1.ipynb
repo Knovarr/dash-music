{
 "metadata": {
  "language_info": {
   "codemirror_mode": {
    "name": "ipython",
    "version": 3
   },
   "file_extension": ".py",
   "mimetype": "text/x-python",
   "name": "python",
   "nbconvert_exporter": "python",
   "pygments_lexer": "ipython3",
   "version": "3.8.5-final"
  },
  "orig_nbformat": 2,
  "kernelspec": {
   "name": "Python 3.8.5 64-bit",
   "display_name": "Python 3.8.5 64-bit",
   "metadata": {
    "interpreter": {
     "hash": "2db524e06e9f5f4ffedc911c917cb75e12dbc923643829bf417064a77eb14d37"
    }
   }
  }
 },
 "nbformat": 4,
 "nbformat_minor": 2,
 "cells": [
  {
   "cell_type": "code",
   "execution_count": 56,
   "metadata": {},
   "outputs": [],
   "source": [
    "import os\n",
    "import pandas as pd \n",
    "import plotly.express as px \n",
    "import plotly.graph_objects as go \n",
    "import numpy as np \n",
    "from datetime import datetime as dt \n",
    "import json\n",
    "\n",
    "import dash\n",
    "import dash_core_components as dcc \n",
    "import dash_html_components as html \n",
    "from dash.dependencies import Input, Output, State\n",
    "import dash_bootstrap_components as dbc\n",
    "import dash_daq as daq\n",
    "\n",
    "# external_stylesheets = ['https://stackpath.bootstrapcdn.com/bootswatch/4.5.2/slate/bootstrap.min.css']\n",
    "\n",
    "app = dash.Dash(__name__,\n",
    "     meta_tags=[{'name': 'viewport',\n",
    "                 'content': 'width=device-width, initial-scale=1.0'}]\n",
    "\n",
    ")\n",
    "server = app.server\n",
    "\n",
    "df = pd.read_csv('Apple Music Activity v2.csv')\n",
    "df.dropna(thresh = 2)\n",
    "\n",
    "fdf = df.groupby(['Apple Music Subscription', 'Artist Name', 'Content Name', 'Content Provider', 'Content Specific Type', 'End Reason Type', 'Event Start Timestamp', 'Feature Name', 'Genre'])['Store Country Name'].count().reset_index()\n",
    "fdf = fdf.replace(\"`|’\", \"'\", regex=True)\n",
    "fdf = fdf.rename(columns = {'Store Country Name':'Play Count','Artist Name':'Artist','Content Name':'Song'})\n",
    "fdf.loc[fdf['Genre'].str.contains('Metal'), 'Genre'] = 'Metal'\n",
    "fdf.loc[fdf['Genre'].str.contains('Rock'), 'Genre'] = 'Rock'\n",
    "fdf.loc[fdf['Genre'].str.contains('Rap'), 'Genre'] = 'Hip Hop/Rap'\n",
    "fdf.loc[fdf['Genre'].str.contains('Hip'), 'Genre'] = 'Hip Hop/Rap'\n",
    "fdf.loc[fdf['Genre'].str.contains('Country'), 'Genre'] = 'Country'\n",
    "fdf.loc[fdf['Genre'].str.contains('Alternative'), '\"genre'] = 'Alternative'\n",
    "fdf.loc[fdf['Genre'].str.contains('R&B'), 'Genre'] = 'R&B/Soul'\n",
    "fdf.loc[fdf['Genre'].str.contains('Pop'), 'Genre'] = 'Pop'\n",
    "fdf = fdf[fdf['Apple Music Subscription'] == True]\n",
    "\n",
    "fdf['Date'] = pd.to_datetime(fdf['Event Start Timestamp'])\n",
    "fdf['Year'] = fdf['Date'].apply(lambda datetime: datetime.year)\n",
    "fdf['Month'] = fdf['Date'].apply(lambda datetime: datetime.month)\n",
    "fdf['Weekday'] = fdf['Date'].apply(lambda datetime: datetime.weekday())\n",
    "fdf['Time'] = fdf['Event Start Timestamp'].str.split('T').str[-1]\n",
    "fdf['Time'] = fdf['Time'].str[:5]\n",
    "\n",
    "weekdayn = []\n",
    "\n",
    "for n in fdf['Weekday']:\n",
    "    if n == 6:\n",
    "        weekdayn.append('Sunday')\n",
    "    elif n == 0:\n",
    "        weekdayn.append('Monday')\n",
    "    elif n == 1:\n",
    "        weekdayn.append('Tuesday')\n",
    "    elif n == 2:\n",
    "        weekdayn.append('Wednesday')\n",
    "    elif n == 3:\n",
    "        weekdayn.append('Thursday')\n",
    "    elif n == 4:\n",
    "        weekdayn.append('Friday')\n",
    "    else:\n",
    "        weekdayn.append('Saturday')\n",
    "\n",
    "fdf['Weekday Name'] = weekdayn\n",
    "\n",
    "monthn = []\n",
    "\n",
    "for e in fdf['Month']:\n",
    "    if e == 1:\n",
    "        monthn.append('January')\n",
    "    elif e == 2:\n",
    "        monthn.append('Febuary')\n",
    "    elif e == 3:\n",
    "        monthn.append('March')\n",
    "    elif e == 4:\n",
    "        monthn.append('April')\n",
    "    elif e == 5:\n",
    "        monthn.append('May')\n",
    "    elif e == 6:\n",
    "        monthn.append('June')\n",
    "    elif e == 7:\n",
    "        monthn.append('July')\n",
    "    elif e == 8:\n",
    "        monthn.append('August')\n",
    "    elif e == 9:\n",
    "        monthn.append('September')\n",
    "    elif e == 10:\n",
    "        monthn.append('October')\n",
    "    elif e == 11:\n",
    "        monthn.append('November')\n",
    "    else:\n",
    "        monthn.append('December')\n",
    "\n",
    "fdf['Monthn'] = monthn\n",
    "\n",
    "Timedf = fdf.copy()\n",
    "Timedf['Time'] = Timedf['Time'].str[:2]\n",
    "Timedf['Time'] = Timedf['Time'].replace('0','00')\n",
    "\n",
    "\n",
    "top10 = fdf.groupby(['Genre'])['Play Count'].sum().reset_index().sort_values('Play Count', ascending = False).head(10)['Genre'].tolist()\n",
    "\n",
    "song50 = fdf.groupby(['Artist','Song'])['Play Count'].count().reset_index().sort_values('Play Count', ascending = True).head(50)['Song'].tolist()\n"
   ]
  },
  {
   "cell_type": "code",
   "execution_count": 57,
   "metadata": {},
   "outputs": [
    {
     "output_type": "execute_result",
     "data": {
      "text/plain": [
       "   Apple Music Subscription               Artist            Song  \\\n",
       "0                      True  \"Weird Al\" Yankovic  Amish Paradise   \n",
       "\n",
       "  Content Provider Content Specific Type  \\\n",
       "0       Sony Music           Music Video   \n",
       "\n",
       "                             End Reason Type     Event Start Timestamp  \\\n",
       "0  MANUALLY_SELECTED_PLAYBACK_OF_A_DIFF_ITEM  2018-07-11T05:19:36.558Z   \n",
       "\n",
       "  Feature Name   Genre  Play Count \"genre                             Date  \\\n",
       "0       browse  Comedy           1    NaN 2018-07-11 05:19:36.558000+00:00   \n",
       "\n",
       "   Year  Month  Weekday   Time Weekday Name Monthn  \n",
       "0  2018      7        2  05:19    Wednesday   July  "
      ],
      "text/html": "<div>\n<style scoped>\n    .dataframe tbody tr th:only-of-type {\n        vertical-align: middle;\n    }\n\n    .dataframe tbody tr th {\n        vertical-align: top;\n    }\n\n    .dataframe thead th {\n        text-align: right;\n    }\n</style>\n<table border=\"1\" class=\"dataframe\">\n  <thead>\n    <tr style=\"text-align: right;\">\n      <th></th>\n      <th>Apple Music Subscription</th>\n      <th>Artist</th>\n      <th>Song</th>\n      <th>Content Provider</th>\n      <th>Content Specific Type</th>\n      <th>End Reason Type</th>\n      <th>Event Start Timestamp</th>\n      <th>Feature Name</th>\n      <th>Genre</th>\n      <th>Play Count</th>\n      <th>\"genre</th>\n      <th>Date</th>\n      <th>Year</th>\n      <th>Month</th>\n      <th>Weekday</th>\n      <th>Time</th>\n      <th>Weekday Name</th>\n      <th>Monthn</th>\n    </tr>\n  </thead>\n  <tbody>\n    <tr>\n      <th>0</th>\n      <td>True</td>\n      <td>\"Weird Al\" Yankovic</td>\n      <td>Amish Paradise</td>\n      <td>Sony Music</td>\n      <td>Music Video</td>\n      <td>MANUALLY_SELECTED_PLAYBACK_OF_A_DIFF_ITEM</td>\n      <td>2018-07-11T05:19:36.558Z</td>\n      <td>browse</td>\n      <td>Comedy</td>\n      <td>1</td>\n      <td>NaN</td>\n      <td>2018-07-11 05:19:36.558000+00:00</td>\n      <td>2018</td>\n      <td>7</td>\n      <td>2</td>\n      <td>05:19</td>\n      <td>Wednesday</td>\n      <td>July</td>\n    </tr>\n  </tbody>\n</table>\n</div>"
     },
     "metadata": {},
     "execution_count": 57
    }
   ],
   "source": [
    "fdf.head(1)"
   ]
  },
  {
   "cell_type": "code",
   "execution_count": 58,
   "metadata": {},
   "outputs": [
    {
     "output_type": "execute_result",
     "data": {
      "text/plain": [
       "'Kanye West'"
      ]
     },
     "metadata": {},
     "execution_count": 58
    }
   ],
   "source": [
    "pdf = fdf[fdf['Genre']=='Hip Hop/Rap']\n",
    "pdf = pdf.groupby(['Artist', 'Genre'])['Play Count'].count().reset_index().sort_values('Play Count', ascending = False)\n",
    "top7 = pdf.groupby(['Artist'])['Play Count'].sum().reset_index().sort_values('Play Count', ascending = False).head(7)['Artist'].tolist()\n",
    "pdf = pdf[pdf['Artist'].isin(top7)]\n",
    "\n",
    "pdf.iloc[0,0]"
   ]
  },
  {
   "cell_type": "code",
   "execution_count": 59,
   "metadata": {},
   "outputs": [
    {
     "output_type": "execute_result",
     "data": {
      "text/plain": [
       "     Month               Artist Genre  Year     Monthn  Play Count\n",
       "15       1           Pink Floyd  Rock  2018    January           2\n",
       "12       1            Meat Loaf  Rock  2018    January          10\n",
       "8        1            Foreigner  Rock  2018    January          34\n",
       "6        1         Dire Straits  Rock  2018    January          33\n",
       "2        1  Black Label Society  Rock  2018    January          38\n",
       "65       2          Tenacious D  Rock  2018    Febuary           3\n",
       "55       2           Pink Floyd  Rock  2018    Febuary          10\n",
       "50       2            Meat Loaf  Rock  2018    Febuary           6\n",
       "23       2  Black Label Society  Rock  2018    Febuary           8\n",
       "32       2         Dire Straits  Rock  2018    Febuary          12\n",
       "39       2            Foreigner  Rock  2018    Febuary           2\n",
       "46       2                  Jet  Rock  2018    Febuary           1\n",
       "87       3          Tenacious D  Rock  2018      March           3\n",
       "94       4          Tenacious D  Rock  2018      April          75\n",
       "90       4            Foreigner  Rock  2018      April           5\n",
       "123      5           Pink Floyd  Rock  2018        May          30\n",
       "117      5            Meat Loaf  Rock  2018        May          58\n",
       "108      5         Dire Straits  Rock  2018        May           4\n",
       "110      5            Foreigner  Rock  2018        May           6\n",
       "155      6          Tenacious D  Rock  2018       June           1\n",
       "151      6            Meat Loaf  Rock  2018       June         429\n",
       "147      6            Foreigner  Rock  2018       June          35\n",
       "180      7          Tenacious D  Rock  2018       July           1\n",
       "162      7            Foreigner  Rock  2018       July          28\n",
       "167      7                  Jet  Rock  2018       July          57\n",
       "168      7            Meat Loaf  Rock  2018       July         196\n",
       "170      7           Pink Floyd  Rock  2018       July           4\n",
       "219      8          Tenacious D  Rock  2018     August           6\n",
       "206      8            Meat Loaf  Rock  2018     August          36\n",
       "203      8                  Jet  Rock  2018     August          22\n",
       "202      8            Foreigner  Rock  2018     August           1\n",
       "258      9            Meat Loaf  Rock  2018  September          22\n",
       "253      9                  Jet  Rock  2018  September          12\n",
       "314     10           Pink Floyd  Rock  2018    October           2\n",
       "322     10          Tenacious D  Rock  2018    October           1\n",
       "308     10            Meat Loaf  Rock  2018    October          18\n",
       "299     10         Dire Straits  Rock  2018    October           5\n",
       "306     10                  Jet  Rock  2018    October           3\n",
       "303     10            Foreigner  Rock  2018    October           6\n",
       "340     11          Tenacious D  Rock  2018   November          21\n",
       "335     11            Meat Loaf  Rock  2018   November          16\n",
       "333     11                  Jet  Rock  2018   November          11\n",
       "332     11            Foreigner  Rock  2018   November           8\n",
       "344     12            Meat Loaf  Rock  2018   December           9\n",
       "345     12          Tenacious D  Rock  2018   December          18\n",
       "343     12            Foreigner  Rock  2018   December          10"
      ],
      "text/html": "<div>\n<style scoped>\n    .dataframe tbody tr th:only-of-type {\n        vertical-align: middle;\n    }\n\n    .dataframe tbody tr th {\n        vertical-align: top;\n    }\n\n    .dataframe thead th {\n        text-align: right;\n    }\n</style>\n<table border=\"1\" class=\"dataframe\">\n  <thead>\n    <tr style=\"text-align: right;\">\n      <th></th>\n      <th>Month</th>\n      <th>Artist</th>\n      <th>Genre</th>\n      <th>Year</th>\n      <th>Monthn</th>\n      <th>Play Count</th>\n    </tr>\n  </thead>\n  <tbody>\n    <tr>\n      <th>15</th>\n      <td>1</td>\n      <td>Pink Floyd</td>\n      <td>Rock</td>\n      <td>2018</td>\n      <td>January</td>\n      <td>2</td>\n    </tr>\n    <tr>\n      <th>12</th>\n      <td>1</td>\n      <td>Meat Loaf</td>\n      <td>Rock</td>\n      <td>2018</td>\n      <td>January</td>\n      <td>10</td>\n    </tr>\n    <tr>\n      <th>8</th>\n      <td>1</td>\n      <td>Foreigner</td>\n      <td>Rock</td>\n      <td>2018</td>\n      <td>January</td>\n      <td>34</td>\n    </tr>\n    <tr>\n      <th>6</th>\n      <td>1</td>\n      <td>Dire Straits</td>\n      <td>Rock</td>\n      <td>2018</td>\n      <td>January</td>\n      <td>33</td>\n    </tr>\n    <tr>\n      <th>2</th>\n      <td>1</td>\n      <td>Black Label Society</td>\n      <td>Rock</td>\n      <td>2018</td>\n      <td>January</td>\n      <td>38</td>\n    </tr>\n    <tr>\n      <th>65</th>\n      <td>2</td>\n      <td>Tenacious D</td>\n      <td>Rock</td>\n      <td>2018</td>\n      <td>Febuary</td>\n      <td>3</td>\n    </tr>\n    <tr>\n      <th>55</th>\n      <td>2</td>\n      <td>Pink Floyd</td>\n      <td>Rock</td>\n      <td>2018</td>\n      <td>Febuary</td>\n      <td>10</td>\n    </tr>\n    <tr>\n      <th>50</th>\n      <td>2</td>\n      <td>Meat Loaf</td>\n      <td>Rock</td>\n      <td>2018</td>\n      <td>Febuary</td>\n      <td>6</td>\n    </tr>\n    <tr>\n      <th>23</th>\n      <td>2</td>\n      <td>Black Label Society</td>\n      <td>Rock</td>\n      <td>2018</td>\n      <td>Febuary</td>\n      <td>8</td>\n    </tr>\n    <tr>\n      <th>32</th>\n      <td>2</td>\n      <td>Dire Straits</td>\n      <td>Rock</td>\n      <td>2018</td>\n      <td>Febuary</td>\n      <td>12</td>\n    </tr>\n    <tr>\n      <th>39</th>\n      <td>2</td>\n      <td>Foreigner</td>\n      <td>Rock</td>\n      <td>2018</td>\n      <td>Febuary</td>\n      <td>2</td>\n    </tr>\n    <tr>\n      <th>46</th>\n      <td>2</td>\n      <td>Jet</td>\n      <td>Rock</td>\n      <td>2018</td>\n      <td>Febuary</td>\n      <td>1</td>\n    </tr>\n    <tr>\n      <th>87</th>\n      <td>3</td>\n      <td>Tenacious D</td>\n      <td>Rock</td>\n      <td>2018</td>\n      <td>March</td>\n      <td>3</td>\n    </tr>\n    <tr>\n      <th>94</th>\n      <td>4</td>\n      <td>Tenacious D</td>\n      <td>Rock</td>\n      <td>2018</td>\n      <td>April</td>\n      <td>75</td>\n    </tr>\n    <tr>\n      <th>90</th>\n      <td>4</td>\n      <td>Foreigner</td>\n      <td>Rock</td>\n      <td>2018</td>\n      <td>April</td>\n      <td>5</td>\n    </tr>\n    <tr>\n      <th>123</th>\n      <td>5</td>\n      <td>Pink Floyd</td>\n      <td>Rock</td>\n      <td>2018</td>\n      <td>May</td>\n      <td>30</td>\n    </tr>\n    <tr>\n      <th>117</th>\n      <td>5</td>\n      <td>Meat Loaf</td>\n      <td>Rock</td>\n      <td>2018</td>\n      <td>May</td>\n      <td>58</td>\n    </tr>\n    <tr>\n      <th>108</th>\n      <td>5</td>\n      <td>Dire Straits</td>\n      <td>Rock</td>\n      <td>2018</td>\n      <td>May</td>\n      <td>4</td>\n    </tr>\n    <tr>\n      <th>110</th>\n      <td>5</td>\n      <td>Foreigner</td>\n      <td>Rock</td>\n      <td>2018</td>\n      <td>May</td>\n      <td>6</td>\n    </tr>\n    <tr>\n      <th>155</th>\n      <td>6</td>\n      <td>Tenacious D</td>\n      <td>Rock</td>\n      <td>2018</td>\n      <td>June</td>\n      <td>1</td>\n    </tr>\n    <tr>\n      <th>151</th>\n      <td>6</td>\n      <td>Meat Loaf</td>\n      <td>Rock</td>\n      <td>2018</td>\n      <td>June</td>\n      <td>429</td>\n    </tr>\n    <tr>\n      <th>147</th>\n      <td>6</td>\n      <td>Foreigner</td>\n      <td>Rock</td>\n      <td>2018</td>\n      <td>June</td>\n      <td>35</td>\n    </tr>\n    <tr>\n      <th>180</th>\n      <td>7</td>\n      <td>Tenacious D</td>\n      <td>Rock</td>\n      <td>2018</td>\n      <td>July</td>\n      <td>1</td>\n    </tr>\n    <tr>\n      <th>162</th>\n      <td>7</td>\n      <td>Foreigner</td>\n      <td>Rock</td>\n      <td>2018</td>\n      <td>July</td>\n      <td>28</td>\n    </tr>\n    <tr>\n      <th>167</th>\n      <td>7</td>\n      <td>Jet</td>\n      <td>Rock</td>\n      <td>2018</td>\n      <td>July</td>\n      <td>57</td>\n    </tr>\n    <tr>\n      <th>168</th>\n      <td>7</td>\n      <td>Meat Loaf</td>\n      <td>Rock</td>\n      <td>2018</td>\n      <td>July</td>\n      <td>196</td>\n    </tr>\n    <tr>\n      <th>170</th>\n      <td>7</td>\n      <td>Pink Floyd</td>\n      <td>Rock</td>\n      <td>2018</td>\n      <td>July</td>\n      <td>4</td>\n    </tr>\n    <tr>\n      <th>219</th>\n      <td>8</td>\n      <td>Tenacious D</td>\n      <td>Rock</td>\n      <td>2018</td>\n      <td>August</td>\n      <td>6</td>\n    </tr>\n    <tr>\n      <th>206</th>\n      <td>8</td>\n      <td>Meat Loaf</td>\n      <td>Rock</td>\n      <td>2018</td>\n      <td>August</td>\n      <td>36</td>\n    </tr>\n    <tr>\n      <th>203</th>\n      <td>8</td>\n      <td>Jet</td>\n      <td>Rock</td>\n      <td>2018</td>\n      <td>August</td>\n      <td>22</td>\n    </tr>\n    <tr>\n      <th>202</th>\n      <td>8</td>\n      <td>Foreigner</td>\n      <td>Rock</td>\n      <td>2018</td>\n      <td>August</td>\n      <td>1</td>\n    </tr>\n    <tr>\n      <th>258</th>\n      <td>9</td>\n      <td>Meat Loaf</td>\n      <td>Rock</td>\n      <td>2018</td>\n      <td>September</td>\n      <td>22</td>\n    </tr>\n    <tr>\n      <th>253</th>\n      <td>9</td>\n      <td>Jet</td>\n      <td>Rock</td>\n      <td>2018</td>\n      <td>September</td>\n      <td>12</td>\n    </tr>\n    <tr>\n      <th>314</th>\n      <td>10</td>\n      <td>Pink Floyd</td>\n      <td>Rock</td>\n      <td>2018</td>\n      <td>October</td>\n      <td>2</td>\n    </tr>\n    <tr>\n      <th>322</th>\n      <td>10</td>\n      <td>Tenacious D</td>\n      <td>Rock</td>\n      <td>2018</td>\n      <td>October</td>\n      <td>1</td>\n    </tr>\n    <tr>\n      <th>308</th>\n      <td>10</td>\n      <td>Meat Loaf</td>\n      <td>Rock</td>\n      <td>2018</td>\n      <td>October</td>\n      <td>18</td>\n    </tr>\n    <tr>\n      <th>299</th>\n      <td>10</td>\n      <td>Dire Straits</td>\n      <td>Rock</td>\n      <td>2018</td>\n      <td>October</td>\n      <td>5</td>\n    </tr>\n    <tr>\n      <th>306</th>\n      <td>10</td>\n      <td>Jet</td>\n      <td>Rock</td>\n      <td>2018</td>\n      <td>October</td>\n      <td>3</td>\n    </tr>\n    <tr>\n      <th>303</th>\n      <td>10</td>\n      <td>Foreigner</td>\n      <td>Rock</td>\n      <td>2018</td>\n      <td>October</td>\n      <td>6</td>\n    </tr>\n    <tr>\n      <th>340</th>\n      <td>11</td>\n      <td>Tenacious D</td>\n      <td>Rock</td>\n      <td>2018</td>\n      <td>November</td>\n      <td>21</td>\n    </tr>\n    <tr>\n      <th>335</th>\n      <td>11</td>\n      <td>Meat Loaf</td>\n      <td>Rock</td>\n      <td>2018</td>\n      <td>November</td>\n      <td>16</td>\n    </tr>\n    <tr>\n      <th>333</th>\n      <td>11</td>\n      <td>Jet</td>\n      <td>Rock</td>\n      <td>2018</td>\n      <td>November</td>\n      <td>11</td>\n    </tr>\n    <tr>\n      <th>332</th>\n      <td>11</td>\n      <td>Foreigner</td>\n      <td>Rock</td>\n      <td>2018</td>\n      <td>November</td>\n      <td>8</td>\n    </tr>\n    <tr>\n      <th>344</th>\n      <td>12</td>\n      <td>Meat Loaf</td>\n      <td>Rock</td>\n      <td>2018</td>\n      <td>December</td>\n      <td>9</td>\n    </tr>\n    <tr>\n      <th>345</th>\n      <td>12</td>\n      <td>Tenacious D</td>\n      <td>Rock</td>\n      <td>2018</td>\n      <td>December</td>\n      <td>18</td>\n    </tr>\n    <tr>\n      <th>343</th>\n      <td>12</td>\n      <td>Foreigner</td>\n      <td>Rock</td>\n      <td>2018</td>\n      <td>December</td>\n      <td>10</td>\n    </tr>\n  </tbody>\n</table>\n</div>"
     },
     "metadata": {},
     "execution_count": 59
    }
   ],
   "source": [
    "            pdf = fdf[fdf['Genre'] == 'Rock']\n",
    "            pdf = pdf[pdf['Year'] == 2018]\n",
    "            pdf = pdf.groupby(['Month','Artist', 'Genre', 'Year', 'Monthn'])['Play Count'].count().reset_index().sort_values('Month', ascending = True)\n",
    "            top7 = pdf.groupby(['Artist'])['Play Count'].sum().reset_index().sort_values('Play Count', ascending = False).head(7)['Artist'].tolist()\n",
    "            pdf = pdf[pdf['Artist'].isin(top7)]\n",
    "            pdf.head(50)"
   ]
  },
  {
   "cell_type": "code",
   "execution_count": 60,
   "metadata": {},
   "outputs": [
    {
     "output_type": "display_data",
     "data": {
      "application/vnd.plotly.v1+json": {
       "config": {
        "plotlyServerURL": "https://plot.ly"
       },
       "data": [
        {
         "customdata": [
          [
           "Pink Floyd",
           "Rock",
           2018,
           "January",
           2
          ],
          [
           "Pink Floyd",
           "Rock",
           2018,
           "Febuary",
           10
          ],
          [
           "Pink Floyd",
           "Rock",
           2018,
           "May",
           30
          ],
          [
           "Pink Floyd",
           "Rock",
           2018,
           "July",
           4
          ],
          [
           "Pink Floyd",
           "Rock",
           2018,
           "October",
           2
          ]
         ],
         "hovertemplate": "Artist: <b>%{customdata[0]}</b><br>Genre: <b>%{customdata[1]}</b><br>Month: <b>%{customdata[3]}</b><br>Year: <b>%{customdata[2]}</b><br>Play Count: <b>%{customdata[4]}</b>",
         "legendgroup": "Pink Floyd",
         "line": {
          "color": "#636efa",
          "dash": "solid"
         },
         "mode": "lines",
         "name": "Pink Floyd",
         "orientation": "v",
         "showlegend": true,
         "type": "scatter",
         "x": [
          1,
          2,
          5,
          7,
          10
         ],
         "xaxis": "x",
         "y": [
          2,
          10,
          30,
          4,
          2
         ],
         "yaxis": "y"
        },
        {
         "customdata": [
          [
           "Meat Loaf",
           "Rock",
           2018,
           "January",
           10
          ],
          [
           "Meat Loaf",
           "Rock",
           2018,
           "Febuary",
           6
          ],
          [
           "Meat Loaf",
           "Rock",
           2018,
           "May",
           58
          ],
          [
           "Meat Loaf",
           "Rock",
           2018,
           "June",
           429
          ],
          [
           "Meat Loaf",
           "Rock",
           2018,
           "July",
           196
          ],
          [
           "Meat Loaf",
           "Rock",
           2018,
           "August",
           36
          ],
          [
           "Meat Loaf",
           "Rock",
           2018,
           "September",
           22
          ],
          [
           "Meat Loaf",
           "Rock",
           2018,
           "October",
           18
          ],
          [
           "Meat Loaf",
           "Rock",
           2018,
           "November",
           16
          ],
          [
           "Meat Loaf",
           "Rock",
           2018,
           "December",
           9
          ]
         ],
         "hovertemplate": "Artist: <b>%{customdata[0]}</b><br>Genre: <b>%{customdata[1]}</b><br>Month: <b>%{customdata[3]}</b><br>Year: <b>%{customdata[2]}</b><br>Play Count: <b>%{customdata[4]}</b>",
         "legendgroup": "Meat Loaf",
         "line": {
          "color": "#EF553B",
          "dash": "solid"
         },
         "mode": "lines",
         "name": "Meat Loaf",
         "orientation": "v",
         "showlegend": true,
         "type": "scatter",
         "x": [
          1,
          2,
          5,
          6,
          7,
          8,
          9,
          10,
          11,
          12
         ],
         "xaxis": "x",
         "y": [
          10,
          6,
          58,
          429,
          196,
          36,
          22,
          18,
          16,
          9
         ],
         "yaxis": "y"
        },
        {
         "customdata": [
          [
           "Foreigner",
           "Rock",
           2018,
           "January",
           34
          ],
          [
           "Foreigner",
           "Rock",
           2018,
           "Febuary",
           2
          ],
          [
           "Foreigner",
           "Rock",
           2018,
           "April",
           5
          ],
          [
           "Foreigner",
           "Rock",
           2018,
           "May",
           6
          ],
          [
           "Foreigner",
           "Rock",
           2018,
           "June",
           35
          ],
          [
           "Foreigner",
           "Rock",
           2018,
           "July",
           28
          ],
          [
           "Foreigner",
           "Rock",
           2018,
           "August",
           1
          ],
          [
           "Foreigner",
           "Rock",
           2018,
           "October",
           6
          ],
          [
           "Foreigner",
           "Rock",
           2018,
           "November",
           8
          ],
          [
           "Foreigner",
           "Rock",
           2018,
           "December",
           10
          ]
         ],
         "hovertemplate": "Artist: <b>%{customdata[0]}</b><br>Genre: <b>%{customdata[1]}</b><br>Month: <b>%{customdata[3]}</b><br>Year: <b>%{customdata[2]}</b><br>Play Count: <b>%{customdata[4]}</b>",
         "legendgroup": "Foreigner",
         "line": {
          "color": "#00cc96",
          "dash": "solid"
         },
         "mode": "lines",
         "name": "Foreigner",
         "orientation": "v",
         "showlegend": true,
         "type": "scatter",
         "x": [
          1,
          2,
          4,
          5,
          6,
          7,
          8,
          10,
          11,
          12
         ],
         "xaxis": "x",
         "y": [
          34,
          2,
          5,
          6,
          35,
          28,
          1,
          6,
          8,
          10
         ],
         "yaxis": "y"
        },
        {
         "customdata": [
          [
           "Dire Straits",
           "Rock",
           2018,
           "January",
           33
          ],
          [
           "Dire Straits",
           "Rock",
           2018,
           "Febuary",
           12
          ],
          [
           "Dire Straits",
           "Rock",
           2018,
           "May",
           4
          ],
          [
           "Dire Straits",
           "Rock",
           2018,
           "October",
           5
          ]
         ],
         "hovertemplate": "Artist: <b>%{customdata[0]}</b><br>Genre: <b>%{customdata[1]}</b><br>Month: <b>%{customdata[3]}</b><br>Year: <b>%{customdata[2]}</b><br>Play Count: <b>%{customdata[4]}</b>",
         "legendgroup": "Dire Straits",
         "line": {
          "color": "#ab63fa",
          "dash": "solid"
         },
         "mode": "lines",
         "name": "Dire Straits",
         "orientation": "v",
         "showlegend": true,
         "type": "scatter",
         "x": [
          1,
          2,
          5,
          10
         ],
         "xaxis": "x",
         "y": [
          33,
          12,
          4,
          5
         ],
         "yaxis": "y"
        },
        {
         "customdata": [
          [
           "Black Label Society",
           "Rock",
           2018,
           "January",
           38
          ],
          [
           "Black Label Society",
           "Rock",
           2018,
           "Febuary",
           8
          ]
         ],
         "hovertemplate": "Artist: <b>%{customdata[0]}</b><br>Genre: <b>%{customdata[1]}</b><br>Month: <b>%{customdata[3]}</b><br>Year: <b>%{customdata[2]}</b><br>Play Count: <b>%{customdata[4]}</b>",
         "legendgroup": "Black Label Society",
         "line": {
          "color": "#FFA15A",
          "dash": "solid"
         },
         "mode": "lines",
         "name": "Black Label Society",
         "orientation": "v",
         "showlegend": true,
         "type": "scatter",
         "x": [
          1,
          2
         ],
         "xaxis": "x",
         "y": [
          38,
          8
         ],
         "yaxis": "y"
        },
        {
         "customdata": [
          [
           "Tenacious D",
           "Rock",
           2018,
           "Febuary",
           3
          ],
          [
           "Tenacious D",
           "Rock",
           2018,
           "March",
           3
          ],
          [
           "Tenacious D",
           "Rock",
           2018,
           "April",
           75
          ],
          [
           "Tenacious D",
           "Rock",
           2018,
           "June",
           1
          ],
          [
           "Tenacious D",
           "Rock",
           2018,
           "July",
           1
          ],
          [
           "Tenacious D",
           "Rock",
           2018,
           "August",
           6
          ],
          [
           "Tenacious D",
           "Rock",
           2018,
           "October",
           1
          ],
          [
           "Tenacious D",
           "Rock",
           2018,
           "November",
           21
          ],
          [
           "Tenacious D",
           "Rock",
           2018,
           "December",
           18
          ]
         ],
         "hovertemplate": "Artist: <b>%{customdata[0]}</b><br>Genre: <b>%{customdata[1]}</b><br>Month: <b>%{customdata[3]}</b><br>Year: <b>%{customdata[2]}</b><br>Play Count: <b>%{customdata[4]}</b>",
         "legendgroup": "Tenacious D",
         "line": {
          "color": "#19d3f3",
          "dash": "solid"
         },
         "mode": "lines",
         "name": "Tenacious D",
         "orientation": "v",
         "showlegend": true,
         "type": "scatter",
         "x": [
          2,
          3,
          4,
          6,
          7,
          8,
          10,
          11,
          12
         ],
         "xaxis": "x",
         "y": [
          3,
          3,
          75,
          1,
          1,
          6,
          1,
          21,
          18
         ],
         "yaxis": "y"
        },
        {
         "customdata": [
          [
           "Jet",
           "Rock",
           2018,
           "Febuary",
           1
          ],
          [
           "Jet",
           "Rock",
           2018,
           "July",
           57
          ],
          [
           "Jet",
           "Rock",
           2018,
           "August",
           22
          ],
          [
           "Jet",
           "Rock",
           2018,
           "September",
           12
          ],
          [
           "Jet",
           "Rock",
           2018,
           "October",
           3
          ],
          [
           "Jet",
           "Rock",
           2018,
           "November",
           11
          ]
         ],
         "hovertemplate": "Artist: <b>%{customdata[0]}</b><br>Genre: <b>%{customdata[1]}</b><br>Month: <b>%{customdata[3]}</b><br>Year: <b>%{customdata[2]}</b><br>Play Count: <b>%{customdata[4]}</b>",
         "legendgroup": "Jet",
         "line": {
          "color": "#FF6692",
          "dash": "solid"
         },
         "mode": "lines",
         "name": "Jet",
         "orientation": "v",
         "showlegend": true,
         "type": "scatter",
         "x": [
          2,
          7,
          8,
          9,
          10,
          11
         ],
         "xaxis": "x",
         "y": [
          1,
          57,
          22,
          12,
          3,
          11
         ],
         "yaxis": "y"
        }
       ],
       "layout": {
        "coloraxis": {
         "showscale": false
        },
        "legend": {
         "title": {
          "text": "Artist"
         },
         "tracegroupgap": 0
        },
        "margin": {
         "t": 60
        },
        "paper_bgcolor": "rgba(0,0,0,0)",
        "plot_bgcolor": "rgba(0,0,0,0)",
        "template": {
         "data": {
          "bar": [
           {
            "error_x": {
             "color": "#2a3f5f"
            },
            "error_y": {
             "color": "#2a3f5f"
            },
            "marker": {
             "line": {
              "color": "#E5ECF6",
              "width": 0.5
             }
            },
            "type": "bar"
           }
          ],
          "barpolar": [
           {
            "marker": {
             "line": {
              "color": "#E5ECF6",
              "width": 0.5
             }
            },
            "type": "barpolar"
           }
          ],
          "carpet": [
           {
            "aaxis": {
             "endlinecolor": "#2a3f5f",
             "gridcolor": "white",
             "linecolor": "white",
             "minorgridcolor": "white",
             "startlinecolor": "#2a3f5f"
            },
            "baxis": {
             "endlinecolor": "#2a3f5f",
             "gridcolor": "white",
             "linecolor": "white",
             "minorgridcolor": "white",
             "startlinecolor": "#2a3f5f"
            },
            "type": "carpet"
           }
          ],
          "choropleth": [
           {
            "colorbar": {
             "outlinewidth": 0,
             "ticks": ""
            },
            "type": "choropleth"
           }
          ],
          "contour": [
           {
            "colorbar": {
             "outlinewidth": 0,
             "ticks": ""
            },
            "colorscale": [
             [
              0,
              "#0d0887"
             ],
             [
              0.1111111111111111,
              "#46039f"
             ],
             [
              0.2222222222222222,
              "#7201a8"
             ],
             [
              0.3333333333333333,
              "#9c179e"
             ],
             [
              0.4444444444444444,
              "#bd3786"
             ],
             [
              0.5555555555555556,
              "#d8576b"
             ],
             [
              0.6666666666666666,
              "#ed7953"
             ],
             [
              0.7777777777777778,
              "#fb9f3a"
             ],
             [
              0.8888888888888888,
              "#fdca26"
             ],
             [
              1,
              "#f0f921"
             ]
            ],
            "type": "contour"
           }
          ],
          "contourcarpet": [
           {
            "colorbar": {
             "outlinewidth": 0,
             "ticks": ""
            },
            "type": "contourcarpet"
           }
          ],
          "heatmap": [
           {
            "colorbar": {
             "outlinewidth": 0,
             "ticks": ""
            },
            "colorscale": [
             [
              0,
              "#0d0887"
             ],
             [
              0.1111111111111111,
              "#46039f"
             ],
             [
              0.2222222222222222,
              "#7201a8"
             ],
             [
              0.3333333333333333,
              "#9c179e"
             ],
             [
              0.4444444444444444,
              "#bd3786"
             ],
             [
              0.5555555555555556,
              "#d8576b"
             ],
             [
              0.6666666666666666,
              "#ed7953"
             ],
             [
              0.7777777777777778,
              "#fb9f3a"
             ],
             [
              0.8888888888888888,
              "#fdca26"
             ],
             [
              1,
              "#f0f921"
             ]
            ],
            "type": "heatmap"
           }
          ],
          "heatmapgl": [
           {
            "colorbar": {
             "outlinewidth": 0,
             "ticks": ""
            },
            "colorscale": [
             [
              0,
              "#0d0887"
             ],
             [
              0.1111111111111111,
              "#46039f"
             ],
             [
              0.2222222222222222,
              "#7201a8"
             ],
             [
              0.3333333333333333,
              "#9c179e"
             ],
             [
              0.4444444444444444,
              "#bd3786"
             ],
             [
              0.5555555555555556,
              "#d8576b"
             ],
             [
              0.6666666666666666,
              "#ed7953"
             ],
             [
              0.7777777777777778,
              "#fb9f3a"
             ],
             [
              0.8888888888888888,
              "#fdca26"
             ],
             [
              1,
              "#f0f921"
             ]
            ],
            "type": "heatmapgl"
           }
          ],
          "histogram": [
           {
            "marker": {
             "colorbar": {
              "outlinewidth": 0,
              "ticks": ""
             }
            },
            "type": "histogram"
           }
          ],
          "histogram2d": [
           {
            "colorbar": {
             "outlinewidth": 0,
             "ticks": ""
            },
            "colorscale": [
             [
              0,
              "#0d0887"
             ],
             [
              0.1111111111111111,
              "#46039f"
             ],
             [
              0.2222222222222222,
              "#7201a8"
             ],
             [
              0.3333333333333333,
              "#9c179e"
             ],
             [
              0.4444444444444444,
              "#bd3786"
             ],
             [
              0.5555555555555556,
              "#d8576b"
             ],
             [
              0.6666666666666666,
              "#ed7953"
             ],
             [
              0.7777777777777778,
              "#fb9f3a"
             ],
             [
              0.8888888888888888,
              "#fdca26"
             ],
             [
              1,
              "#f0f921"
             ]
            ],
            "type": "histogram2d"
           }
          ],
          "histogram2dcontour": [
           {
            "colorbar": {
             "outlinewidth": 0,
             "ticks": ""
            },
            "colorscale": [
             [
              0,
              "#0d0887"
             ],
             [
              0.1111111111111111,
              "#46039f"
             ],
             [
              0.2222222222222222,
              "#7201a8"
             ],
             [
              0.3333333333333333,
              "#9c179e"
             ],
             [
              0.4444444444444444,
              "#bd3786"
             ],
             [
              0.5555555555555556,
              "#d8576b"
             ],
             [
              0.6666666666666666,
              "#ed7953"
             ],
             [
              0.7777777777777778,
              "#fb9f3a"
             ],
             [
              0.8888888888888888,
              "#fdca26"
             ],
             [
              1,
              "#f0f921"
             ]
            ],
            "type": "histogram2dcontour"
           }
          ],
          "mesh3d": [
           {
            "colorbar": {
             "outlinewidth": 0,
             "ticks": ""
            },
            "type": "mesh3d"
           }
          ],
          "parcoords": [
           {
            "line": {
             "colorbar": {
              "outlinewidth": 0,
              "ticks": ""
             }
            },
            "type": "parcoords"
           }
          ],
          "pie": [
           {
            "automargin": true,
            "type": "pie"
           }
          ],
          "scatter": [
           {
            "marker": {
             "colorbar": {
              "outlinewidth": 0,
              "ticks": ""
             }
            },
            "type": "scatter"
           }
          ],
          "scatter3d": [
           {
            "line": {
             "colorbar": {
              "outlinewidth": 0,
              "ticks": ""
             }
            },
            "marker": {
             "colorbar": {
              "outlinewidth": 0,
              "ticks": ""
             }
            },
            "type": "scatter3d"
           }
          ],
          "scattercarpet": [
           {
            "marker": {
             "colorbar": {
              "outlinewidth": 0,
              "ticks": ""
             }
            },
            "type": "scattercarpet"
           }
          ],
          "scattergeo": [
           {
            "marker": {
             "colorbar": {
              "outlinewidth": 0,
              "ticks": ""
             }
            },
            "type": "scattergeo"
           }
          ],
          "scattergl": [
           {
            "marker": {
             "colorbar": {
              "outlinewidth": 0,
              "ticks": ""
             }
            },
            "type": "scattergl"
           }
          ],
          "scattermapbox": [
           {
            "marker": {
             "colorbar": {
              "outlinewidth": 0,
              "ticks": ""
             }
            },
            "type": "scattermapbox"
           }
          ],
          "scatterpolar": [
           {
            "marker": {
             "colorbar": {
              "outlinewidth": 0,
              "ticks": ""
             }
            },
            "type": "scatterpolar"
           }
          ],
          "scatterpolargl": [
           {
            "marker": {
             "colorbar": {
              "outlinewidth": 0,
              "ticks": ""
             }
            },
            "type": "scatterpolargl"
           }
          ],
          "scatterternary": [
           {
            "marker": {
             "colorbar": {
              "outlinewidth": 0,
              "ticks": ""
             }
            },
            "type": "scatterternary"
           }
          ],
          "surface": [
           {
            "colorbar": {
             "outlinewidth": 0,
             "ticks": ""
            },
            "colorscale": [
             [
              0,
              "#0d0887"
             ],
             [
              0.1111111111111111,
              "#46039f"
             ],
             [
              0.2222222222222222,
              "#7201a8"
             ],
             [
              0.3333333333333333,
              "#9c179e"
             ],
             [
              0.4444444444444444,
              "#bd3786"
             ],
             [
              0.5555555555555556,
              "#d8576b"
             ],
             [
              0.6666666666666666,
              "#ed7953"
             ],
             [
              0.7777777777777778,
              "#fb9f3a"
             ],
             [
              0.8888888888888888,
              "#fdca26"
             ],
             [
              1,
              "#f0f921"
             ]
            ],
            "type": "surface"
           }
          ],
          "table": [
           {
            "cells": {
             "fill": {
              "color": "#EBF0F8"
             },
             "line": {
              "color": "white"
             }
            },
            "header": {
             "fill": {
              "color": "#C8D4E3"
             },
             "line": {
              "color": "white"
             }
            },
            "type": "table"
           }
          ]
         },
         "layout": {
          "annotationdefaults": {
           "arrowcolor": "#2a3f5f",
           "arrowhead": 0,
           "arrowwidth": 1
          },
          "coloraxis": {
           "colorbar": {
            "outlinewidth": 0,
            "ticks": ""
           }
          },
          "colorscale": {
           "diverging": [
            [
             0,
             "#8e0152"
            ],
            [
             0.1,
             "#c51b7d"
            ],
            [
             0.2,
             "#de77ae"
            ],
            [
             0.3,
             "#f1b6da"
            ],
            [
             0.4,
             "#fde0ef"
            ],
            [
             0.5,
             "#f7f7f7"
            ],
            [
             0.6,
             "#e6f5d0"
            ],
            [
             0.7,
             "#b8e186"
            ],
            [
             0.8,
             "#7fbc41"
            ],
            [
             0.9,
             "#4d9221"
            ],
            [
             1,
             "#276419"
            ]
           ],
           "sequential": [
            [
             0,
             "#0d0887"
            ],
            [
             0.1111111111111111,
             "#46039f"
            ],
            [
             0.2222222222222222,
             "#7201a8"
            ],
            [
             0.3333333333333333,
             "#9c179e"
            ],
            [
             0.4444444444444444,
             "#bd3786"
            ],
            [
             0.5555555555555556,
             "#d8576b"
            ],
            [
             0.6666666666666666,
             "#ed7953"
            ],
            [
             0.7777777777777778,
             "#fb9f3a"
            ],
            [
             0.8888888888888888,
             "#fdca26"
            ],
            [
             1,
             "#f0f921"
            ]
           ],
           "sequentialminus": [
            [
             0,
             "#0d0887"
            ],
            [
             0.1111111111111111,
             "#46039f"
            ],
            [
             0.2222222222222222,
             "#7201a8"
            ],
            [
             0.3333333333333333,
             "#9c179e"
            ],
            [
             0.4444444444444444,
             "#bd3786"
            ],
            [
             0.5555555555555556,
             "#d8576b"
            ],
            [
             0.6666666666666666,
             "#ed7953"
            ],
            [
             0.7777777777777778,
             "#fb9f3a"
            ],
            [
             0.8888888888888888,
             "#fdca26"
            ],
            [
             1,
             "#f0f921"
            ]
           ]
          },
          "colorway": [
           "#636efa",
           "#EF553B",
           "#00cc96",
           "#ab63fa",
           "#FFA15A",
           "#19d3f3",
           "#FF6692",
           "#B6E880",
           "#FF97FF",
           "#FECB52"
          ],
          "font": {
           "color": "#2a3f5f"
          },
          "geo": {
           "bgcolor": "white",
           "lakecolor": "white",
           "landcolor": "#E5ECF6",
           "showlakes": true,
           "showland": true,
           "subunitcolor": "white"
          },
          "hoverlabel": {
           "align": "left"
          },
          "hovermode": "closest",
          "mapbox": {
           "style": "light"
          },
          "paper_bgcolor": "white",
          "plot_bgcolor": "#E5ECF6",
          "polar": {
           "angularaxis": {
            "gridcolor": "white",
            "linecolor": "white",
            "ticks": ""
           },
           "bgcolor": "#E5ECF6",
           "radialaxis": {
            "gridcolor": "white",
            "linecolor": "white",
            "ticks": ""
           }
          },
          "scene": {
           "xaxis": {
            "backgroundcolor": "#E5ECF6",
            "gridcolor": "white",
            "gridwidth": 2,
            "linecolor": "white",
            "showbackground": true,
            "ticks": "",
            "zerolinecolor": "white"
           },
           "yaxis": {
            "backgroundcolor": "#E5ECF6",
            "gridcolor": "white",
            "gridwidth": 2,
            "linecolor": "white",
            "showbackground": true,
            "ticks": "",
            "zerolinecolor": "white"
           },
           "zaxis": {
            "backgroundcolor": "#E5ECF6",
            "gridcolor": "white",
            "gridwidth": 2,
            "linecolor": "white",
            "showbackground": true,
            "ticks": "",
            "zerolinecolor": "white"
           }
          },
          "shapedefaults": {
           "line": {
            "color": "#2a3f5f"
           }
          },
          "ternary": {
           "aaxis": {
            "gridcolor": "white",
            "linecolor": "white",
            "ticks": ""
           },
           "baxis": {
            "gridcolor": "white",
            "linecolor": "white",
            "ticks": ""
           },
           "bgcolor": "#E5ECF6",
           "caxis": {
            "gridcolor": "white",
            "linecolor": "white",
            "ticks": ""
           }
          },
          "title": {
           "x": 0.05
          },
          "xaxis": {
           "automargin": true,
           "gridcolor": "white",
           "linecolor": "white",
           "ticks": "",
           "title": {
            "standoff": 15
           },
           "zerolinecolor": "white",
           "zerolinewidth": 2
          },
          "yaxis": {
           "automargin": true,
           "gridcolor": "white",
           "linecolor": "white",
           "ticks": "",
           "title": {
            "standoff": 15
           },
           "zerolinecolor": "white",
           "zerolinewidth": 2
          }
         }
        },
        "xaxis": {
         "anchor": "y",
         "domain": [
          0,
          1
         ],
         "ticktext": [
          "January",
          "February",
          "March",
          "April",
          "May",
          "June",
          "July",
          "August",
          "September",
          "October",
          "November",
          "December"
         ],
         "tickvals": [
          "1",
          "2",
          "3",
          "4",
          "5",
          "6",
          "7",
          "8",
          "9",
          "10",
          "11",
          "12"
         ],
         "title": {
          "text": "Month"
         }
        },
        "yaxis": {
         "anchor": "x",
         "domain": [
          0,
          1
         ],
         "showgrid": false,
         "title": {
          "text": "Play Count"
         }
        }
       }
      }
     },
     "metadata": {}
    }
   ],
   "source": [
    "fig = px.line(\n",
    "    pdf,\n",
    "    x = 'Month',\n",
    "    y = 'Play Count',\n",
    "    color = 'Artist',\n",
    "    custom_data= ['Artist', 'Genre', 'Year', 'Monthn', 'Play Count']\n",
    ")\n",
    "\n",
    "fig.update_traces(\n",
    "    hovertemplate = '<br>'.join([\n",
    "        'Artist: <b>%{customdata[0]}</b>',\n",
    "        'Genre: <b>%{customdata[1]}</b>',\n",
    "        'Month: <b>%{customdata[3]}</b>',\n",
    "        'Year: <b>%{customdata[2]}</b>',\n",
    "        'Play Count: <b>%{customdata[4]}</b>'\n",
    "    ])\n",
    ")\n",
    "fig.update_layout(\n",
    "    paper_bgcolor='rgba(0,0,0,0)',\n",
    "    plot_bgcolor='rgba(0,0,0,0)',\n",
    "    coloraxis_showscale = False,\n",
    ")\n",
    "fig.update_yaxes(\n",
    "    {'showgrid': False}\n",
    "    )\n",
    "\n",
    "fig.update_xaxes(\n",
    "    ticktext = [\n",
    "        'January',\n",
    "        'February',\n",
    "        'March',\n",
    "        'April',\n",
    "        'May',\n",
    "        'June',\n",
    "        'July',\n",
    "        'August',\n",
    "        'September',\n",
    "        'October',\n",
    "        'November',\n",
    "        'December'\n",
    "    ],\n",
    "    tickvals = [\n",
    "        '1',\n",
    "        '2',\n",
    "        '3',\n",
    "        '4',\n",
    "        '5',\n",
    "        '6',\n",
    "        '7',\n",
    "        '8',\n",
    "        '9',\n",
    "        '10',\n",
    "        '11',\n",
    "        '12'\n",
    "    ]\n",
    ")\n",
    "\n",
    "fig.show()"
   ]
  },
  {
   "cell_type": "code",
   "execution_count": null,
   "metadata": {},
   "outputs": [],
   "source": []
  }
 ]
}